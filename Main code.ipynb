{
 "cells": [
  {
   "cell_type": "code",
   "execution_count": 0,
   "metadata": {
    "application/vnd.databricks.v1+cell": {
     "cellMetadata": {
      "byteLimit": 2048000,
      "rowLimit": 10000
     },
     "inputWidgets": {},
     "nuid": "e3350ee3-e13c-45da-8e69-e4639f0ca673",
     "showTitle": false,
     "title": ""
    }
   },
   "outputs": [
    {
     "output_type": "stream",
     "name": "stdout",
     "output_type": "stream",
     "text": [
      "You are great\n"
     ]
    }
   ],
   "source": [
    "print('You are great')"
   ]
  },
  {
   "cell_type": "code",
   "execution_count": 0,
   "metadata": {
    "application/vnd.databricks.v1+cell": {
     "cellMetadata": {
      "byteLimit": 2048000,
      "implicitDf": true,
      "rowLimit": 10000
     },
     "inputWidgets": {},
     "nuid": "209a915a-4481-4ceb-8f41-d63ce9d43ce7",
     "showTitle": false,
     "title": ""
    }
   },
   "outputs": [
    {
     "output_type": "display_data",
     "data": {
      "text/html": [
       "<style scoped>\n",
       "  .table-result-container {\n",
       "    max-height: 300px;\n",
       "    overflow: auto;\n",
       "  }\n",
       "  table, th, td {\n",
       "    border: 1px solid black;\n",
       "    border-collapse: collapse;\n",
       "  }\n",
       "  th, td {\n",
       "    padding: 5px;\n",
       "  }\n",
       "  th {\n",
       "    text-align: left;\n",
       "  }\n",
       "</style><div class='table-result-container'><table class='table-result'><thead style='background-color: white'><tr></tr></thead><tbody></tbody></table></div>"
      ]
     },
     "metadata": {
      "application/vnd.databricks.v1+output": {
       "addedWidgets": {},
       "aggData": [],
       "aggError": "",
       "aggOverflow": false,
       "aggSchema": [],
       "aggSeriesLimitReached": false,
       "aggType": "",
       "arguments": {},
       "columnCustomDisplayInfos": {},
       "data": [],
       "datasetInfos": [],
       "dbfsResultPath": null,
       "isJsonSchema": true,
       "metadata": {},
       "overflow": false,
       "plotOptions": {
        "customPlotOptions": {},
        "displayType": "table",
        "pivotAggregation": null,
        "pivotColumns": null,
        "xColumns": null,
        "yColumns": null
       },
       "removedWidgets": [],
       "schema": [],
       "type": "table"
      }
     },
     "output_type": "display_data"
    }
   ],
   "source": [
    "%sql\n",
    "create database ecommerce;"
   ]
  },
  {
   "cell_type": "code",
   "execution_count": 0,
   "metadata": {
    "application/vnd.databricks.v1+cell": {
     "cellMetadata": {
      "byteLimit": 2048000,
      "rowLimit": 10000
     },
     "inputWidgets": {},
     "nuid": "d59c5c1e-a49b-46c2-88e1-9e53039ac9cf",
     "showTitle": false,
     "title": ""
    }
   },
   "outputs": [
    {
     "output_type": "stream",
     "name": "stdout",
     "output_type": "stream",
     "text": [
      "root\n |-- customer_id: string (nullable = true)\n |-- name: string (nullable = true)\n |-- state: string (nullable = true)\n |-- city: string (nullable = true)\n |-- address: string (nullable = true)\n |-- mb_number: long (nullable = true)\n |-- pin: integer (nullable = true)\n |-- valid_from: string (nullable = true)\n |-- valid_to: string (nullable = true)\n\n+-----------+----------------+----------------+-----------+----------------+----------+------+----------+----------+\n|customer_id|            name|           state|       city|         address| mb_number|   pin|valid_from|  valid_to|\n+-----------+----------------+----------------+-----------+----------------+----------+------+----------+----------+\n|       C001|        John Doe|   Uttar Pradesh|  Ghaziabad|     Indirapuram|9876543210|201010| 10/1/2024|12/12/9999|\n|       C002|      Jane Smith|           Delhi|      Delhi| Connaught Place|8765432109|110001| 10/1/2024|12/12/9999|\n|       C003| Michael Johnson|     Maharashtra|     Mumbai|         Andheri|7654321098|400059| 10/1/2024|12/12/9999|\n|       C004|     Emily Davis|      Tamil Nadu|    Chennai|         T Nagar|6543210987|600017| 10/1/2024|12/12/9999|\n|       C005|    David Wilson|       Karnataka|  Bengaluru|      Whitefield|5432109876|560066| 10/1/2024|12/12/9999|\n|       C006|       Sarah Lee|     West Bengal|    Kolkata|     Park Street|4321098765|700016| 10/1/2024|12/12/9999|\n|       C007|    Thomas Brown|  Andhra Pradesh|  Hyderabad|   Banjara Hills|3210987654|500034| 10/1/2024|12/12/9999|\n|       C008|   Olivia Taylor|       Telangana|  Hyderabad|     Hitech City|2109876543|500081| 10/1/2024|12/12/9999|\n|       C009|     Ethan Green|       Rajasthan|     Jaipur|       Pink City|1098765432|302025| 10/1/2024|12/12/9999|\n|       C010|      Ava Miller|         Gujarat|  Ahmedabad|    Ellis Bridge|9876543210|380006| 10/1/2024|12/12/9999|\n|       C011|Benjamin Johnson|          Punjab| Chandigarh|       Sector 17|8765432109|160017| 10/1/2024|12/12/9999|\n|       C012|    Sophia Davis|         Haryana|    Gurgaon|Golf Course Road|7654321098|122002| 10/1/2024|12/12/9999|\n|       C013|  William Wilson|          Kerala|      Kochi|      Fort Kochi|6543210987|682001| 10/1/2024|12/12/9999|\n|       C014|     Lily Harris|  Madhya Pradesh|     Bhopal|       Lake View|5432109876|462001| 10/1/2024|12/12/9999|\n|       C015|     Noah Carter|          Odisha|Bhubaneswar|         Janpath|4321098765|751001| 10/1/2024|12/12/9999|\n|       C016|      Emma Jones|           Assam|   Guwahati|        G S Road|3210987654|781001| 10/1/2024|12/12/9999|\n|       C017|     Oliver King|           Bihar|      Patna|   Gandhi Maidan|2109876543|800001| 10/1/2024|12/12/9999|\n|       C018|    Amelia Brown| Jammu & Kashmir|   Srinagar|        Dal Lake|1098765432|190001| 10/1/2024|12/12/9999|\n|       C019|    Jacob Miller|Himachal Pradesh|     Shimla|       Mall Road|9876543210|171001| 10/1/2024|12/12/9999|\n|       C020|   Abigail Davis|     Uttarakhand|   Dehradun|     Rajpur Road|8765432109|248001| 10/1/2024|12/12/9999|\n+-----------+----------------+----------------+-----------+----------------+----------+------+----------+----------+\n\n"
     ]
    }
   ],
   "source": [
    "# For Customer Details (Dimension table)\n",
    "day1='dbfs:/FileStore/Ecommerce_data_02_10_24/Customer_details_01_10_24.csv'\n",
    "day2='dbfs:/FileStore/Ecommerce_data_02_10_24/Customer_details_02_10_24.csv'\n",
    "day3='dbfs:/FileStore/Ecommerce_data_02_10_24/Customer_details_03_10_24.csv'\n",
    "import pandas as pd\n",
    "from pyspark.sql.functions import col,to_date\n",
    "from delta.tables import *\n",
    "from pyspark.sql.functions import col, lit, current_date\n",
    "\n",
    "#my_schema= \"customer_id STRING, name STRING, state STRING, city STRING, address STRING, mb_number LONG, pin INT, valid_from date, valid_to date\"\n",
    "\n",
    "# Step 1 - Creating New df on the arrival of new file in the loacaiton we mentioned in the load section\n",
    "date='01_10_24'\n",
    "# date='02_10_24'\n",
    "# date='03_10_24'\n",
    "\n",
    "#Ideally here we are providing date manually whereas when we will push this code and run the notebook on daily basis then we can use date function so that ever data our data got change and it will pick that day's file\n",
    "\n",
    "customer_df=spark.read.format('csv').option('header',True).option('inferSchema',True).load(f'dbfs:/FileStore/Ecommerce_data_02_10_24/Customer_details_{date}.csv')\n",
    "\n",
    "#customer_df=spark.read.format('csv').option('header',True).schema(my_schema).load(f'{day1}')\n",
    "# customer_df=df.withColumn('valid_from1',col('valid_from').cast('date')).withColumn('valid_to1',col('valid_to').cast('date'))\n",
    "\n",
    "customer_df.printSchema()\n",
    "customer_df.show()\n",
    "\n",
    "# Here we will use if condition so if that table will already be existing then we will use append otherwise we will simple do overwirte\n",
    "customer_path='ecommerce.customer_dimension'\n",
    "\n",
    "if spark.catalog.tableExists(customer_path):\n",
    "    print('table exist')\n",
    "    # Load existing customer_dimension table so that we can update this table with new incremental data and delete its old image\n",
    "    customer_dim_table = DeltaTable.forPath(spark, 'dbfs:/user/hive/warehouse/ecommerce.db/customer_dimension')\n",
    "\n",
    "    # In this merge condition if the primary key value already existing then we will simply update its value with new value but if the primary key does not exist then we will simple insert the data.\n",
    "    customer_dim_table.alias(\"dim\") \\\n",
    "        .merge(\n",
    "            customer_df.alias(\"raw\"),\n",
    "            \"dim.customer_id = raw.customer_id\"\n",
    "        ) \\\n",
    "        .whenMatchedUpdate(set={\n",
    "            \"customer_id\": \"raw.customer_id\",\n",
    "            \"name\": \"raw.name\",\n",
    "            \"state\": \"raw.state\",\n",
    "            \"city\": \"raw.city\",\n",
    "            \"address\": \"raw.address\",\n",
    "            \"mb_number\": \"raw.mb_number\",\n",
    "            \"pin\": \"raw.pin\",\n",
    "            \"valid_from\": \"raw.valid_from\",\n",
    "            \"valid_to\": \"raw.valid_to\"\n",
    "            \n",
    "        }) \\\n",
    "        .whenNotMatchedInsert(values={\n",
    "            \"customer_id\": \"raw.customer_id\",\n",
    "            \"name\": \"raw.name\",\n",
    "            \"state\": \"raw.state\",\n",
    "            \"city\": \"raw.city\",\n",
    "            \"address\": \"raw.address\",\n",
    "            \"mb_number\": \"raw.mb_number\",\n",
    "            \"pin\": \"raw.pin\",\n",
    "            \"valid_from\": \"raw.valid_to\"  # Future date for new records\n",
    "        }) \\\n",
    "        .execute()\n",
    "else:\n",
    "    # In this else condition if the table does not existin then here it will create the table\n",
    "    #more specifically creatig delta table \n",
    "    customer_df.write.format('delta').mode('overwrite').saveAsTable('ecommerce.customer_dimension')\n",
    "\n",
    "\n",
    "# In this blow we are maintaing only 1 table we are not creating any staging because this is dimension table so there won't be much data transaction in this table\n",
    "#Loading incremental data from source and creating df on it then we are using merge to update the dimension table.\n",
    "\n",
    "\n"
   ]
  },
  {
   "cell_type": "code",
   "execution_count": 0,
   "metadata": {
    "application/vnd.databricks.v1+cell": {
     "cellMetadata": {
      "byteLimit": 2048000,
      "rowLimit": 10000
     },
     "collapsed": true,
     "inputWidgets": {},
     "nuid": "a04141b0-e970-4710-b0a9-476c474138bb",
     "showTitle": false,
     "title": ""
    }
   },
   "outputs": [],
   "source": [
    "# # Define the file paths for three days\n",
    "# day1 = 'dbfs:/FileStore/Ecommerce_data_02_10_24/Customer_details_01_10_24.csv'\n",
    "# day2 = 'dbfs:/FileStore/Ecommerce_data_02_10_24/Customer_details_02_10_24.csv'\n",
    "# day3 = 'dbfs:/FileStore/Ecommerce_data_02_10_24/Customer_details_03_10_24.csv'\n",
    "\n",
    "# # Correct schema definition\n",
    "# from pyspark.sql.types import StructType, StructField, StringType, LongType, IntegerType, DateType\n",
    "\n",
    "# my_schema = StructType([\n",
    "#     StructField(\"customer_id\", StringType(), True),\n",
    "#     StructField(\"name\", StringType(), True),\n",
    "#     StructField(\"state\", StringType(), True),\n",
    "#     StructField(\"city\", StringType(), True),\n",
    "#     StructField(\"address\", StringType(), True),\n",
    "#     StructField(\"mb_number\", LongType(), True),\n",
    "#     StructField(\"pin\", IntegerType(), True),\n",
    "#     StructField(\"valid_from\", DateType(), True),\n",
    "#     StructField(\"valid_to\", DateType(), True)\n",
    "# ])\n",
    "\n",
    "# # Load the data from day1 CSV with the schema\n",
    "# customer_df = spark.read.format('csv').option('header', 'true').schema(my_schema).load(f'{day1}')\n",
    "\n",
    "# # Display the schema and the data\n",
    "# customer_df.printSchema()\n",
    "# customer_df.show()\n"
   ]
  },
  {
   "cell_type": "code",
   "execution_count": 0,
   "metadata": {
    "application/vnd.databricks.v1+cell": {
     "cellMetadata": {
      "byteLimit": 2048000,
      "rowLimit": 10000
     },
     "inputWidgets": {},
     "nuid": "c3dac4b0-bc9b-45c0-bd06-8a868d99eda6",
     "showTitle": false,
     "title": ""
    }
   },
   "outputs": [
    {
     "output_type": "stream",
     "name": "stdout",
     "output_type": "stream",
     "text": [
      "+--------+-----------+---------------+---+-----+----------+---------+-----------+\n|order_id|customer_id|        product|qty|price|order_date|   status|update_date|\n+--------+-----------+---------------+---+-----+----------+---------+-----------+\n|    O001|       C001|         Laptop|  1|50000|2024-09-01|  Shipped|   1-Oct-24|\n|    O002|       C002|     Smartphone|  2|30000|2024-09-05|Delivered|   1-Oct-24|\n|    O003|       C001|     Headphones|  3| 5000|2024-09-10|Cancelled|   1-Oct-24|\n|    O004|       C003|         Tablet|  1|25000|2024-09-15|  Shipped|   1-Oct-24|\n|    O005|       C005|         Camera|  2|40000|2024-09-20|Delivered|   1-Oct-24|\n|    O006|       C006|          Watch|  1|20000|2024-09-25|  Shipped|   1-Oct-24|\n|    O007|       C007|             TV|  1|35000|2024-09-30|Delivered|   1-Oct-24|\n|    O008|       C008|   Refrigerator|  1|25000|2024-10-05|  Shipped|   1-Oct-24|\n|    O009|       C009|Air Conditioner|  2|30000|2024-10-10|Delivered|   1-Oct-24|\n|    O010|       C010|Washing Machine|  1|20000|2024-10-15|  Shipped|   1-Oct-24|\n|    O011|       C011|  Mixer Grinder|  2| 5000|2024-10-20|Delivered|   1-Oct-24|\n|    O012|       C012|   Coffee Maker|  1|10000|2024-10-25|  Shipped|   1-Oct-24|\n|    O013|       C013|           Oven|  1|15000|2024-10-30|Delivered|   1-Oct-24|\n|    O014|       C014|      Microwave|  2|10000|2024-11-05|  Shipped|   1-Oct-24|\n|    O015|       C015| Vacuum Cleaner|  1|15000|2024-11-10|Delivered|   1-Oct-24|\n+--------+-----------+---------------+---+-----+----------+---------+-----------+\n\nroot\n |-- customer_id: string (nullable = true)\n |-- order_id: string (nullable = true)\n |-- product: string (nullable = true)\n |-- qty: integer (nullable = true)\n |-- price: integer (nullable = true)\n |-- order_date: date (nullable = true)\n |-- status: string (nullable = true)\n |-- update_date: string (nullable = true)\n |-- name: string (nullable = true)\n |-- state: string (nullable = true)\n |-- city: string (nullable = true)\n |-- address: string (nullable = true)\n |-- mb_number: long (nullable = true)\n |-- pin: integer (nullable = true)\n |-- valid_from: string (nullable = true)\n |-- valid_to: string (nullable = true)\n |-- ingestion_type: string (nullable = false)\n\n+-----------+--------+---------------+---+-----+----------+---------+-----------+----------------+--------------+-----------+----------------+----------+------+----------+----------+--------------+\n|customer_id|order_id|        product|qty|price|order_date|   status|update_date|            name|         state|       city|         address| mb_number|   pin|valid_from|  valid_to|ingestion_type|\n+-----------+--------+---------------+---+-----+----------+---------+-----------+----------------+--------------+-----------+----------------+----------+------+----------+----------+--------------+\n|       C001|    O003|     Headphones|  3| 5000|2024-09-10|Cancelled|   1-Oct-24|        John Doe| Uttar Pradesh|  Ghaziabad|     Indirapuram|9876543210|201010| 10/1/2024|12/12/9999|   insert_data|\n|       C001|    O001|         Laptop|  1|50000|2024-09-01|  Shipped|   1-Oct-24|        John Doe| Uttar Pradesh|  Ghaziabad|     Indirapuram|9876543210|201010| 10/1/2024|12/12/9999|   insert_data|\n|       C002|    O002|     Smartphone|  2|30000|2024-09-05|Delivered|   1-Oct-24|      Jane Smith|         Delhi|      Delhi| Connaught Place|8765432109|110001| 10/1/2024|12/12/9999|   insert_data|\n|       C003|    O004|         Tablet|  1|25000|2024-09-15|  Shipped|   1-Oct-24| Michael Johnson|   Maharashtra|     Mumbai|         Andheri|7654321098|400059| 10/1/2024|12/12/9999|   insert_data|\n|       C005|    O005|         Camera|  2|40000|2024-09-20|Delivered|   1-Oct-24|    David Wilson|     Karnataka|  Bengaluru|      Whitefield|5432109876|560066| 10/1/2024|12/12/9999|   insert_data|\n|       C006|    O006|          Watch|  1|20000|2024-09-25|  Shipped|   1-Oct-24|       Sarah Lee|   West Bengal|    Kolkata|     Park Street|4321098765|700016| 10/1/2024|12/12/9999|   insert_data|\n|       C007|    O007|             TV|  1|35000|2024-09-30|Delivered|   1-Oct-24|    Thomas Brown|Andhra Pradesh|  Hyderabad|   Banjara Hills|3210987654|500034| 10/1/2024|12/12/9999|   insert_data|\n|       C008|    O008|   Refrigerator|  1|25000|2024-10-05|  Shipped|   1-Oct-24|   Olivia Taylor|     Telangana|  Hyderabad|     Hitech City|2109876543|500081| 10/1/2024|12/12/9999|   insert_data|\n|       C009|    O009|Air Conditioner|  2|30000|2024-10-10|Delivered|   1-Oct-24|     Ethan Green|     Rajasthan|     Jaipur|       Pink City|1098765432|302025| 10/1/2024|12/12/9999|   insert_data|\n|       C010|    O010|Washing Machine|  1|20000|2024-10-15|  Shipped|   1-Oct-24|      Ava Miller|       Gujarat|  Ahmedabad|    Ellis Bridge|9876543210|380006| 10/1/2024|12/12/9999|   insert_data|\n|       C011|    O011|  Mixer Grinder|  2| 5000|2024-10-20|Delivered|   1-Oct-24|Benjamin Johnson|        Punjab| Chandigarh|       Sector 17|8765432109|160017| 10/1/2024|12/12/9999|   insert_data|\n|       C012|    O012|   Coffee Maker|  1|10000|2024-10-25|  Shipped|   1-Oct-24|    Sophia Davis|       Haryana|    Gurgaon|Golf Course Road|7654321098|122002| 10/1/2024|12/12/9999|   insert_data|\n|       C013|    O013|           Oven|  1|15000|2024-10-30|Delivered|   1-Oct-24|  William Wilson|        Kerala|      Kochi|      Fort Kochi|6543210987|682001| 10/1/2024|12/12/9999|   insert_data|\n|       C014|    O014|      Microwave|  2|10000|2024-11-05|  Shipped|   1-Oct-24|     Lily Harris|Madhya Pradesh|     Bhopal|       Lake View|5432109876|462001| 10/1/2024|12/12/9999|   insert_data|\n|       C015|    O015| Vacuum Cleaner|  1|15000|2024-11-10|Delivered|   1-Oct-24|     Noah Carter|        Odisha|Bhubaneswar|         Janpath|4321098765|751001| 10/1/2024|12/12/9999|   insert_data|\n+-----------+--------+---------------+---+-----+----------+---------+-----------+----------------+--------------+-----------+----------------+----------+------+----------+----------+--------------+\n\n"
     ]
    }
   ],
   "source": [
    "# For Customer Details (Dimension table)\n",
    "# Here we are dealing with 2 table\n",
    "# Fact table of order (order_raw)\n",
    "# Fact table  joining order table and customer dimension table (join_table)\n",
    "\n",
    "\n",
    "# Here also we are using date logic to pick present day data \n",
    "day1='dbfs:/FileStore/Ecommerce_data_02_10_24/Order_details_01_10_24.csv'\n",
    "day2='dbfs:/FileStore/Ecommerce_data_02_10_24/Order_details_02_10_24.csv'\n",
    "day3='dbfs:/FileStore/Ecommerce_data_02_10_24/Order_details_03_10_24.csv'\n",
    "import pandas as pd\n",
    "from pyspark.sql.functions import col,to_date\n",
    "from delta.tables import *\n",
    "from pyspark.sql.functions import col, lit, current_date\n",
    "\n",
    "date='01_10_24'\n",
    "# date='02_10_24'\n",
    "# date='03_10_24'\n",
    "\n",
    "order_df=spark.read.format('csv').option('header',True).option('inferSchema',True).load(f'dbfs:/FileStore/Ecommerce_data_02_10_24/Order_details_{date}.csv')\n",
    "#order_df.write.format('delta').mode('overwrite').saveAsTable('ecommerce.order_raw')\n",
    "\n",
    "# Here we are again using if condition that if table does not exist then it will go in else condition to create table when this pipeline run for the first time\n",
    "\n",
    "# But if table already existi then we are simply load incremental data into df then merge into existing table to update the old data on the basis of primary key\n",
    "table_path='ecommerce.order_raw'\n",
    "if spark.catalog.tableExists(table_path):\n",
    "    print('Table alredy exist')\n",
    "    order_fact=DeltaTable.forPath(spark,'dbfs:/user/hive/warehouse/ecommerce.db/order_raw')\n",
    "    order_fact.alias('dim')\\\n",
    "        .merge(\n",
    "            order_df.alias('raw'),\n",
    "            'dim.order_id=raw.order_id'\n",
    "        )\\\n",
    "        .whenMatchedUpdate(set={\n",
    "            \"order_id\":\"raw.order_id\",\n",
    "            \"customer_id\":\"raw.customer_id\",\n",
    "            \"product\":\"raw.product\",\n",
    "            \"qty\":\"raw.qty\",\n",
    "            \"order_date\":\"raw.order_date\",\n",
    "            \"status\":\"raw.status\",\n",
    "            \"update_date\":\"raw.update_date\"\n",
    "\n",
    "        })\\\n",
    "            .whenNotMatchedInsert(values={\n",
    "                \"order_id\":\"raw.order_id\",\n",
    "            \"customer_id\":\"raw.customer_id\",\n",
    "            \"product\":\"raw.product\",\n",
    "            \"qty\":\"raw.qty\",\n",
    "            \"order_date\":\"raw.order_date\",\n",
    "            \"status\":\"raw.status\",\n",
    "            \"update_date\":\"raw.update_date\"\n",
    "                }).execute()\n",
    "\n",
    "\n",
    "\n",
    "else:\n",
    "    order_df.write.format('delta').mode('overwrite').saveAsTable('ecommerce.order_raw')\n",
    "\n",
    "\n",
    "# Here we are creating df on customer dimension table so that we can use to in our join condition\n",
    "df_customer=spark.read.format('delta').load('dbfs:/user/hive/warehouse/ecommerce.db/customer_dimension')\n",
    "\n",
    "# This will help to join incremental order data with customer dimension data\n",
    "df_join=order_df.join(df_customer,'customer_id')\n",
    "\n",
    "# Again using if else condition to create table for the first time and then using merge condition to update the odl data with new data on the basis of primary key\n",
    "table_path2='ecommerce.order_join'\n",
    "if spark.catalog.tableExists(table_path2):\n",
    "    print('Joined table exist')\n",
    "    \n",
    "    order_join=DeltaTable.forPath(spark,'dbfs:/user/hive/warehouse/ecommerce.db/order_join')\n",
    "    \n",
    "    df_join.printSchema()\n",
    "   \n",
    "    order_join.alias('table_join')\\\n",
    "        .merge(df_join.alias('df_join'),\n",
    "               'table_join.order_id=df_join.order_id')\\\n",
    "        .whenMatchedUpdate(set={\n",
    "            \"order_id\":\"df_join.order_id\",\n",
    "            'ingestion_type':lit(\"updated_data\"),\n",
    "            \"product\":\"df_join.product\",\n",
    "            \"qty\":\"df_join.qty\",\n",
    "            \"order_date\":\"df_join.order_date\",\n",
    "            \"status\":\"df_join.status\",\n",
    "            \"update_date\":\"df_join.update_date\",\n",
    "            \"customer_id\": \"df_join.customer_id\",\n",
    "            \"name\": \"df_join.name\",\n",
    "            \"state\": \"df_join.state\",\n",
    "            \"city\": \"df_join.city\",\n",
    "            \"address\": \"df_join.address\",\n",
    "            \"mb_number\": \"df_join.mb_number\",\n",
    "            \"pin\": \"df_join.pin\",\n",
    "            \"valid_from\": \"df_join.valid_from\",\n",
    "            \"valid_to\": \"df_join.valid_to\"\n",
    "\n",
    "        })\\\n",
    "        .whenNotMatchedInsert(values={\"order_id\":\"df_join.order_id\",\n",
    "            \"customer_id\":\"df_join.customer_id\",\n",
    "            \"product\":\"df_join.product\",\n",
    "            \"qty\":\"df_join.qty\",\n",
    "            \"order_date\":\"df_join.order_date\",\n",
    "            \"status\":\"df_join.status\",\n",
    "            \"update_date\":\"df_join.update_date\",\n",
    "            'ingestion_type':lit(\"inserted_data\"),\n",
    "            \"name\": \"df_join.name\",\n",
    "            \"state\": \"df_join.state\",\n",
    "            \"city\": \"df_join.city\",\n",
    "            \"address\": \"df_join.address\",\n",
    "            \"mb_number\": \"df_join.mb_number\",\n",
    "            \"pin\": \"df_join.pin\",\n",
    "            \"valid_from\": \"df_join.valid_from\",\n",
    "            \"valid_to\": \"df_join.valid_to\"\n",
    "            }).execute()\n",
    "    \n",
    "\n",
    "else:\n",
    "    # lit is using to provide a string value to the column\n",
    "    df_join=df_join.withColumn('ingestion_type',lit('insert_data'))\n",
    "    df_join.write.format('delta').mode('overwrite').saveAsTable('ecommerce.order_join')\n",
    "\n",
    "\n",
    "\n",
    "\n",
    "\n",
    "order_df.show()\n",
    "df_join.printSchema()\n",
    "df_join.show()"
   ]
  },
  {
   "cell_type": "code",
   "execution_count": 0,
   "metadata": {
    "application/vnd.databricks.v1+cell": {
     "cellMetadata": {
      "byteLimit": 2048000,
      "rowLimit": 10000
     },
     "inputWidgets": {},
     "nuid": "ae440ddb-3e34-4fa8-818f-af8c84aff5d3",
     "showTitle": false,
     "title": ""
    }
   },
   "outputs": [],
   "source": [
    "#To delete any directory\n",
    "#dbutils.fs.rm(\"dbfs:/FileStore/Ecommerce_data_02_10_24\", recurse=True)\n"
   ]
  },
  {
   "cell_type": "code",
   "execution_count": 0,
   "metadata": {
    "application/vnd.databricks.v1+cell": {
     "cellMetadata": {
      "byteLimit": 2048000,
      "implicitDf": true,
      "rowLimit": 10000
     },
     "collapsed": true,
     "inputWidgets": {},
     "nuid": "39ae93bf-85fc-4874-9045-a21aeb9a5ff4",
     "showTitle": false,
     "title": ""
    }
   },
   "outputs": [],
   "source": [
    "# %sql\n",
    "# drop table ecommerce.order_join;\n",
    "# --select * from ecommerce.order_join;"
   ]
  },
  {
   "cell_type": "code",
   "execution_count": 0,
   "metadata": {
    "application/vnd.databricks.v1+cell": {
     "cellMetadata": {
      "byteLimit": 2048000,
      "implicitDf": true,
      "rowLimit": 10000
     },
     "collapsed": true,
     "inputWidgets": {},
     "nuid": "bc0d93fb-ae36-448a-99e5-fa1403b80b1e",
     "showTitle": false,
     "title": ""
    }
   },
   "outputs": [],
   "source": [
    "# %sql\n",
    "# -- All the 3 tables\n",
    "# select * from  ecommerce.order_raw;\n",
    "# select * from  ecommerce.customer_dimension;\n",
    "# select * from  ecommerce.order_join;\n",
    "\n",
    "# -- drop table ecommerce.order_raw;\n",
    "# -- drop table ecommerce.customer_dimension;\n",
    "# -- drop table ecommerce.order_join;"
   ]
  },
  {
   "cell_type": "code",
   "execution_count": 0,
   "metadata": {
    "application/vnd.databricks.v1+cell": {
     "cellMetadata": {
      "byteLimit": 2048000,
      "rowLimit": 10000
     },
     "inputWidgets": {},
     "nuid": "0a518cbf-30da-4e3c-80d1-45490d679073",
     "showTitle": false,
     "title": ""
    }
   },
   "outputs": [
    {
     "output_type": "stream",
     "name": "stdout",
     "output_type": "stream",
     "text": [
      "root\n |-- customer_id: string (nullable = true)\n |-- order_id: string (nullable = true)\n |-- product: string (nullable = true)\n |-- qty: integer (nullable = true)\n |-- price: integer (nullable = true)\n |-- order_date: date (nullable = true)\n |-- status: string (nullable = true)\n |-- update_date: string (nullable = true)\n |-- name: string (nullable = true)\n |-- state: string (nullable = true)\n |-- city: string (nullable = true)\n |-- address: string (nullable = true)\n |-- mb_number: long (nullable = true)\n |-- pin: integer (nullable = true)\n |-- valid_from: string (nullable = true)\n |-- valid_to: string (nullable = true)\n |-- ingestion_type: string (nullable = true)\n\n+--------------+-----------+\n|         state|total_spent|\n+--------------+-----------+\n|        Punjab|       5000|\n|Madhya Pradesh|      10000|\n|       Haryana|      10000|\n|        Odisha|      15000|\n|        Kerala|      15000|\n|       Gujarat|      20000|\n|   West Bengal|      20000|\n|   Maharashtra|      25000|\n|     Telangana|      25000|\n|         Delhi|      30000|\n|     Rajasthan|      30000|\n|Andhra Pradesh|      35000|\n|     Karnataka|      40000|\n| Uttar Pradesh|      50000|\n+--------------+-----------+\n\n"
     ]
    }
   ],
   "source": [
    "# Aggrigation Price  on the basis state for only Shipped and Delivered Order(excluding Cancelled POs)\n",
    "#msitaker i was doing - i was trying to do aggregation without importing sum functionality\n",
    "\n",
    "from pyspark.sql.functions import sum , count\n",
    "sales_df=spark.read.format('delta').option('infer_schema',True).load('dbfs:/user/hive/warehouse/ecommerce.db/order_join')\n",
    "sales_df.printSchema()\n",
    "\n",
    "amount_state_agg=sales_df.filter(col('status').isin('Shipped','Delivered')).groupBy('state').agg(sum('price').alias('total_spent')).orderBy('total_spent')\n",
    "\n",
    "amount_state_agg.write.format('delta').mode('overwrite').saveAsTable('ecommerce.sales_per_city')\n",
    "amount_state_agg.show()\n"
   ]
  },
  {
   "cell_type": "code",
   "execution_count": 0,
   "metadata": {
    "application/vnd.databricks.v1+cell": {
     "cellMetadata": {
      "byteLimit": 2048000,
      "implicitDf": true,
      "rowLimit": 10000
     },
     "collapsed": true,
     "inputWidgets": {},
     "nuid": "7701fd96-01ad-45ad-8169-8984f79b73e0",
     "showTitle": false,
     "title": ""
    }
   },
   "outputs": [],
   "source": [
    "# %sql\n",
    "# select * from ecommerce.order_join;"
   ]
  },
  {
   "cell_type": "code",
   "execution_count": 0,
   "metadata": {
    "application/vnd.databricks.v1+cell": {
     "cellMetadata": {
      "byteLimit": 2048000,
      "rowLimit": 10000
     },
     "inputWidgets": {},
     "nuid": "65aad166-c810-47da-b984-ea6ef658aac4",
     "showTitle": false,
     "title": ""
    }
   },
   "outputs": [
    {
     "output_type": "stream",
     "name": "stdout",
     "output_type": "stream",
     "text": [
      "+---------------+--------------+\n|        product|total_quantity|\n+---------------+--------------+\n|             TV|             1|\n|           Oven|             1|\n|   Refrigerator|             1|\n|         Laptop|             1|\n| Vacuum Cleaner|             1|\n|   Coffee Maker|             1|\n|Washing Machine|             1|\n|         Tablet|             1|\n|          Watch|             1|\n|  Mixer Grinder|             2|\n|      Microwave|             2|\n|Air Conditioner|             2|\n|         Camera|             2|\n|     Smartphone|             2|\n+---------------+--------------+\n\n"
     ]
    }
   ],
   "source": [
    "# Aggrigate quantity on the basis of product to find which product is selling the most\n",
    "\n",
    "total_product_quantity_df=sales_df.filter(col('status').isin('Shipped','Delivered')).groupBy('product').agg(sum('qty').alias('total_quantity')).orderBy('total_quantity')\n",
    "\n",
    "total_product_quantity_df.write.format('delta').mode('overwrite').saveAsTable('ecommerce.total_produce_quantity')\n",
    "\n",
    "total_product_quantity_df.show()\n"
   ]
  },
  {
   "cell_type": "code",
   "execution_count": 0,
   "metadata": {
    "application/vnd.databricks.v1+cell": {
     "cellMetadata": {
      "byteLimit": 2048000,
      "rowLimit": 10000
     },
     "inputWidgets": {},
     "nuid": "402da398-b9b2-489b-a3d7-a7f1a4c23e37",
     "showTitle": false,
     "title": ""
    }
   },
   "outputs": [],
   "source": [
    "shipped_data_df=sales_df.filter(col('status')=='Shipped')\n",
    "shipped_data_df.write.format('delta').mode('overwrite').saveAsTable('ecommerce.shipped_order_table')\n",
    "\n",
    "cancelled_data_df=sales_df.filter(col('status')=='Cancelled')\n",
    "cancelled_data_df.write.format('delta').mode('overwrite').saveAsTable('ecommerce.cancelled_order_table')\n",
    "\n",
    "delivered_data_df=sales_df.filter(col('status')=='Delivered')\n",
    "delivered_data_df.write.format('delta').mode('overwrite').saveAsTable('ecommerce.delivered_order_table')\n"
   ]
  },
  {
   "cell_type": "code",
   "execution_count": 0,
   "metadata": {
    "application/vnd.databricks.v1+cell": {
     "cellMetadata": {
      "byteLimit": 2048000,
      "implicitDf": true,
      "rowLimit": 10000
     },
     "inputWidgets": {},
     "nuid": "ec719685-1454-4ee4-98c7-5329a6a439c9",
     "showTitle": false,
     "title": ""
    }
   },
   "outputs": [
    {
     "output_type": "display_data",
     "data": {
      "text/html": [
       "<style scoped>\n",
       "  .table-result-container {\n",
       "    max-height: 300px;\n",
       "    overflow: auto;\n",
       "  }\n",
       "  table, th, td {\n",
       "    border: 1px solid black;\n",
       "    border-collapse: collapse;\n",
       "  }\n",
       "  th, td {\n",
       "    padding: 5px;\n",
       "  }\n",
       "  th {\n",
       "    text-align: left;\n",
       "  }\n",
       "</style><div class='table-result-container'><table class='table-result'><thead style='background-color: white'><tr><th>customer_id</th><th>order_id</th><th>product</th><th>qty</th><th>price</th><th>order_date</th><th>status</th><th>update_date</th><th>name</th><th>state</th><th>city</th><th>address</th><th>mb_number</th><th>pin</th><th>valid_from</th><th>valid_to</th><th>ingestion_type</th></tr></thead><tbody><tr><td>C001</td><td>O001</td><td>Laptop</td><td>1</td><td>50000</td><td>2024-09-01</td><td>Shipped</td><td>1-Oct-24</td><td>John Doe</td><td>Uttar Pradesh</td><td>Ghaziabad</td><td>Indirapuram</td><td>9876543210</td><td>201010</td><td>10/1/2024</td><td>12/12/9999</td><td>insert_data</td></tr><tr><td>C003</td><td>O004</td><td>Tablet</td><td>1</td><td>25000</td><td>2024-09-15</td><td>Shipped</td><td>1-Oct-24</td><td>Michael Johnson</td><td>Maharashtra</td><td>Mumbai</td><td>Andheri</td><td>7654321098</td><td>400059</td><td>10/1/2024</td><td>12/12/9999</td><td>insert_data</td></tr><tr><td>C006</td><td>O006</td><td>Watch</td><td>1</td><td>20000</td><td>2024-09-25</td><td>Shipped</td><td>1-Oct-24</td><td>Sarah Lee</td><td>West Bengal</td><td>Kolkata</td><td>Park Street</td><td>4321098765</td><td>700016</td><td>10/1/2024</td><td>12/12/9999</td><td>insert_data</td></tr><tr><td>C008</td><td>O008</td><td>Refrigerator</td><td>1</td><td>25000</td><td>2024-10-05</td><td>Shipped</td><td>1-Oct-24</td><td>Olivia Taylor</td><td>Telangana</td><td>Hyderabad</td><td>Hitech City</td><td>2109876543</td><td>500081</td><td>10/1/2024</td><td>12/12/9999</td><td>insert_data</td></tr><tr><td>C010</td><td>O010</td><td>Washing Machine</td><td>1</td><td>20000</td><td>2024-10-15</td><td>Shipped</td><td>1-Oct-24</td><td>Ava Miller</td><td>Gujarat</td><td>Ahmedabad</td><td>Ellis Bridge</td><td>9876543210</td><td>380006</td><td>10/1/2024</td><td>12/12/9999</td><td>insert_data</td></tr><tr><td>C012</td><td>O012</td><td>Coffee Maker</td><td>1</td><td>10000</td><td>2024-10-25</td><td>Shipped</td><td>1-Oct-24</td><td>Sophia Davis</td><td>Haryana</td><td>Gurgaon</td><td>Golf Course Road</td><td>7654321098</td><td>122002</td><td>10/1/2024</td><td>12/12/9999</td><td>insert_data</td></tr><tr><td>C014</td><td>O014</td><td>Microwave</td><td>2</td><td>10000</td><td>2024-11-05</td><td>Shipped</td><td>1-Oct-24</td><td>Lily Harris</td><td>Madhya Pradesh</td><td>Bhopal</td><td>Lake View</td><td>5432109876</td><td>462001</td><td>10/1/2024</td><td>12/12/9999</td><td>insert_data</td></tr></tbody></table></div>"
      ]
     },
     "metadata": {
      "application/vnd.databricks.v1+output": {
       "addedWidgets": {},
       "aggData": [],
       "aggError": "",
       "aggOverflow": false,
       "aggSchema": [],
       "aggSeriesLimitReached": false,
       "aggType": "",
       "arguments": {},
       "columnCustomDisplayInfos": {},
       "data": [
        [
         "C001",
         "O001",
         "Laptop",
         1,
         50000,
         "2024-09-01",
         "Shipped",
         "1-Oct-24",
         "John Doe",
         "Uttar Pradesh",
         "Ghaziabad",
         "Indirapuram",
         9876543210,
         201010,
         "10/1/2024",
         "12/12/9999",
         "insert_data"
        ],
        [
         "C003",
         "O004",
         "Tablet",
         1,
         25000,
         "2024-09-15",
         "Shipped",
         "1-Oct-24",
         "Michael Johnson",
         "Maharashtra",
         "Mumbai",
         "Andheri",
         7654321098,
         400059,
         "10/1/2024",
         "12/12/9999",
         "insert_data"
        ],
        [
         "C006",
         "O006",
         "Watch",
         1,
         20000,
         "2024-09-25",
         "Shipped",
         "1-Oct-24",
         "Sarah Lee",
         "West Bengal",
         "Kolkata",
         "Park Street",
         4321098765,
         700016,
         "10/1/2024",
         "12/12/9999",
         "insert_data"
        ],
        [
         "C008",
         "O008",
         "Refrigerator",
         1,
         25000,
         "2024-10-05",
         "Shipped",
         "1-Oct-24",
         "Olivia Taylor",
         "Telangana",
         "Hyderabad",
         "Hitech City",
         2109876543,
         500081,
         "10/1/2024",
         "12/12/9999",
         "insert_data"
        ],
        [
         "C010",
         "O010",
         "Washing Machine",
         1,
         20000,
         "2024-10-15",
         "Shipped",
         "1-Oct-24",
         "Ava Miller",
         "Gujarat",
         "Ahmedabad",
         "Ellis Bridge",
         9876543210,
         380006,
         "10/1/2024",
         "12/12/9999",
         "insert_data"
        ],
        [
         "C012",
         "O012",
         "Coffee Maker",
         1,
         10000,
         "2024-10-25",
         "Shipped",
         "1-Oct-24",
         "Sophia Davis",
         "Haryana",
         "Gurgaon",
         "Golf Course Road",
         7654321098,
         122002,
         "10/1/2024",
         "12/12/9999",
         "insert_data"
        ],
        [
         "C014",
         "O014",
         "Microwave",
         2,
         10000,
         "2024-11-05",
         "Shipped",
         "1-Oct-24",
         "Lily Harris",
         "Madhya Pradesh",
         "Bhopal",
         "Lake View",
         5432109876,
         462001,
         "10/1/2024",
         "12/12/9999",
         "insert_data"
        ]
       ],
       "datasetInfos": [],
       "dbfsResultPath": null,
       "isJsonSchema": true,
       "metadata": {},
       "overflow": false,
       "plotOptions": {
        "customPlotOptions": {},
        "displayType": "table",
        "pivotAggregation": null,
        "pivotColumns": null,
        "xColumns": null,
        "yColumns": null
       },
       "removedWidgets": [],
       "schema": [
        {
         "metadata": "{}",
         "name": "customer_id",
         "type": "\"string\""
        },
        {
         "metadata": "{}",
         "name": "order_id",
         "type": "\"string\""
        },
        {
         "metadata": "{}",
         "name": "product",
         "type": "\"string\""
        },
        {
         "metadata": "{}",
         "name": "qty",
         "type": "\"integer\""
        },
        {
         "metadata": "{}",
         "name": "price",
         "type": "\"integer\""
        },
        {
         "metadata": "{\"__detected_date_formats\":\"M/d/yyyy\"}",
         "name": "order_date",
         "type": "\"date\""
        },
        {
         "metadata": "{}",
         "name": "status",
         "type": "\"string\""
        },
        {
         "metadata": "{}",
         "name": "update_date",
         "type": "\"string\""
        },
        {
         "metadata": "{}",
         "name": "name",
         "type": "\"string\""
        },
        {
         "metadata": "{}",
         "name": "state",
         "type": "\"string\""
        },
        {
         "metadata": "{}",
         "name": "city",
         "type": "\"string\""
        },
        {
         "metadata": "{}",
         "name": "address",
         "type": "\"string\""
        },
        {
         "metadata": "{}",
         "name": "mb_number",
         "type": "\"long\""
        },
        {
         "metadata": "{}",
         "name": "pin",
         "type": "\"integer\""
        },
        {
         "metadata": "{}",
         "name": "valid_from",
         "type": "\"string\""
        },
        {
         "metadata": "{}",
         "name": "valid_to",
         "type": "\"string\""
        },
        {
         "metadata": "{}",
         "name": "ingestion_type",
         "type": "\"string\""
        }
       ],
       "type": "table"
      }
     },
     "output_type": "display_data"
    }
   ],
   "source": [
    "%sql\n",
    "select * from  ecommerce.shipped_order_table;\n"
   ]
  },
  {
   "cell_type": "code",
   "execution_count": 0,
   "metadata": {
    "application/vnd.databricks.v1+cell": {
     "cellMetadata": {
      "byteLimit": 2048000,
      "implicitDf": true,
      "rowLimit": 10000
     },
     "inputWidgets": {},
     "nuid": "85262502-08dc-4c34-a538-e5eb9d685d30",
     "showTitle": false,
     "title": ""
    }
   },
   "outputs": [
    {
     "output_type": "display_data",
     "data": {
      "text/html": [
       "<style scoped>\n",
       "  .table-result-container {\n",
       "    max-height: 300px;\n",
       "    overflow: auto;\n",
       "  }\n",
       "  table, th, td {\n",
       "    border: 1px solid black;\n",
       "    border-collapse: collapse;\n",
       "  }\n",
       "  th, td {\n",
       "    padding: 5px;\n",
       "  }\n",
       "  th {\n",
       "    text-align: left;\n",
       "  }\n",
       "</style><div class='table-result-container'><table class='table-result'><thead style='background-color: white'><tr><th>customer_id</th><th>order_id</th><th>product</th><th>qty</th><th>price</th><th>order_date</th><th>status</th><th>update_date</th><th>name</th><th>state</th><th>city</th><th>address</th><th>mb_number</th><th>pin</th><th>valid_from</th><th>valid_to</th><th>ingestion_type</th></tr></thead><tbody><tr><td>C001</td><td>O003</td><td>Headphones</td><td>3</td><td>5000</td><td>2024-09-10</td><td>Cancelled</td><td>1-Oct-24</td><td>John Doe</td><td>Uttar Pradesh</td><td>Ghaziabad</td><td>Indirapuram</td><td>9876543210</td><td>201010</td><td>10/1/2024</td><td>12/12/9999</td><td>insert_data</td></tr></tbody></table></div>"
      ]
     },
     "metadata": {
      "application/vnd.databricks.v1+output": {
       "addedWidgets": {},
       "aggData": [],
       "aggError": "",
       "aggOverflow": false,
       "aggSchema": [],
       "aggSeriesLimitReached": false,
       "aggType": "",
       "arguments": {},
       "columnCustomDisplayInfos": {},
       "data": [
        [
         "C001",
         "O003",
         "Headphones",
         3,
         5000,
         "2024-09-10",
         "Cancelled",
         "1-Oct-24",
         "John Doe",
         "Uttar Pradesh",
         "Ghaziabad",
         "Indirapuram",
         9876543210,
         201010,
         "10/1/2024",
         "12/12/9999",
         "insert_data"
        ]
       ],
       "datasetInfos": [],
       "dbfsResultPath": null,
       "isJsonSchema": true,
       "metadata": {},
       "overflow": false,
       "plotOptions": {
        "customPlotOptions": {},
        "displayType": "table",
        "pivotAggregation": null,
        "pivotColumns": null,
        "xColumns": null,
        "yColumns": null
       },
       "removedWidgets": [],
       "schema": [
        {
         "metadata": "{}",
         "name": "customer_id",
         "type": "\"string\""
        },
        {
         "metadata": "{}",
         "name": "order_id",
         "type": "\"string\""
        },
        {
         "metadata": "{}",
         "name": "product",
         "type": "\"string\""
        },
        {
         "metadata": "{}",
         "name": "qty",
         "type": "\"integer\""
        },
        {
         "metadata": "{}",
         "name": "price",
         "type": "\"integer\""
        },
        {
         "metadata": "{\"__detected_date_formats\":\"M/d/yyyy\"}",
         "name": "order_date",
         "type": "\"date\""
        },
        {
         "metadata": "{}",
         "name": "status",
         "type": "\"string\""
        },
        {
         "metadata": "{}",
         "name": "update_date",
         "type": "\"string\""
        },
        {
         "metadata": "{}",
         "name": "name",
         "type": "\"string\""
        },
        {
         "metadata": "{}",
         "name": "state",
         "type": "\"string\""
        },
        {
         "metadata": "{}",
         "name": "city",
         "type": "\"string\""
        },
        {
         "metadata": "{}",
         "name": "address",
         "type": "\"string\""
        },
        {
         "metadata": "{}",
         "name": "mb_number",
         "type": "\"long\""
        },
        {
         "metadata": "{}",
         "name": "pin",
         "type": "\"integer\""
        },
        {
         "metadata": "{}",
         "name": "valid_from",
         "type": "\"string\""
        },
        {
         "metadata": "{}",
         "name": "valid_to",
         "type": "\"string\""
        },
        {
         "metadata": "{}",
         "name": "ingestion_type",
         "type": "\"string\""
        }
       ],
       "type": "table"
      }
     },
     "output_type": "display_data"
    }
   ],
   "source": [
    "%sql\n",
    "select * from  ecommerce.cancelled_order_table;\n"
   ]
  },
  {
   "cell_type": "code",
   "execution_count": 0,
   "metadata": {
    "application/vnd.databricks.v1+cell": {
     "cellMetadata": {
      "byteLimit": 2048000,
      "implicitDf": true,
      "rowLimit": 10000
     },
     "inputWidgets": {},
     "nuid": "0edc6ad6-624f-4f25-873b-690f1c504dd8",
     "showTitle": false,
     "title": ""
    }
   },
   "outputs": [
    {
     "output_type": "display_data",
     "data": {
      "text/html": [
       "<style scoped>\n",
       "  .table-result-container {\n",
       "    max-height: 300px;\n",
       "    overflow: auto;\n",
       "  }\n",
       "  table, th, td {\n",
       "    border: 1px solid black;\n",
       "    border-collapse: collapse;\n",
       "  }\n",
       "  th, td {\n",
       "    padding: 5px;\n",
       "  }\n",
       "  th {\n",
       "    text-align: left;\n",
       "  }\n",
       "</style><div class='table-result-container'><table class='table-result'><thead style='background-color: white'><tr><th>customer_id</th><th>order_id</th><th>product</th><th>qty</th><th>price</th><th>order_date</th><th>status</th><th>update_date</th><th>name</th><th>state</th><th>city</th><th>address</th><th>mb_number</th><th>pin</th><th>valid_from</th><th>valid_to</th><th>ingestion_type</th></tr></thead><tbody><tr><td>C002</td><td>O002</td><td>Smartphone</td><td>2</td><td>30000</td><td>2024-09-05</td><td>Delivered</td><td>1-Oct-24</td><td>Jane Smith</td><td>Delhi</td><td>Delhi</td><td>Connaught Place</td><td>8765432109</td><td>110001</td><td>10/1/2024</td><td>12/12/9999</td><td>insert_data</td></tr><tr><td>C005</td><td>O005</td><td>Camera</td><td>2</td><td>40000</td><td>2024-09-20</td><td>Delivered</td><td>1-Oct-24</td><td>David Wilson</td><td>Karnataka</td><td>Bengaluru</td><td>Whitefield</td><td>5432109876</td><td>560066</td><td>10/1/2024</td><td>12/12/9999</td><td>insert_data</td></tr><tr><td>C007</td><td>O007</td><td>TV</td><td>1</td><td>35000</td><td>2024-09-30</td><td>Delivered</td><td>1-Oct-24</td><td>Thomas Brown</td><td>Andhra Pradesh</td><td>Hyderabad</td><td>Banjara Hills</td><td>3210987654</td><td>500034</td><td>10/1/2024</td><td>12/12/9999</td><td>insert_data</td></tr><tr><td>C009</td><td>O009</td><td>Air Conditioner</td><td>2</td><td>30000</td><td>2024-10-10</td><td>Delivered</td><td>1-Oct-24</td><td>Ethan Green</td><td>Rajasthan</td><td>Jaipur</td><td>Pink City</td><td>1098765432</td><td>302025</td><td>10/1/2024</td><td>12/12/9999</td><td>insert_data</td></tr><tr><td>C011</td><td>O011</td><td>Mixer Grinder</td><td>2</td><td>5000</td><td>2024-10-20</td><td>Delivered</td><td>1-Oct-24</td><td>Benjamin Johnson</td><td>Punjab</td><td>Chandigarh</td><td>Sector 17</td><td>8765432109</td><td>160017</td><td>10/1/2024</td><td>12/12/9999</td><td>insert_data</td></tr><tr><td>C013</td><td>O013</td><td>Oven</td><td>1</td><td>15000</td><td>2024-10-30</td><td>Delivered</td><td>1-Oct-24</td><td>William Wilson</td><td>Kerala</td><td>Kochi</td><td>Fort Kochi</td><td>6543210987</td><td>682001</td><td>10/1/2024</td><td>12/12/9999</td><td>insert_data</td></tr><tr><td>C015</td><td>O015</td><td>Vacuum Cleaner</td><td>1</td><td>15000</td><td>2024-11-10</td><td>Delivered</td><td>1-Oct-24</td><td>Noah Carter</td><td>Odisha</td><td>Bhubaneswar</td><td>Janpath</td><td>4321098765</td><td>751001</td><td>10/1/2024</td><td>12/12/9999</td><td>insert_data</td></tr></tbody></table></div>"
      ]
     },
     "metadata": {
      "application/vnd.databricks.v1+output": {
       "addedWidgets": {},
       "aggData": [],
       "aggError": "",
       "aggOverflow": false,
       "aggSchema": [],
       "aggSeriesLimitReached": false,
       "aggType": "",
       "arguments": {},
       "columnCustomDisplayInfos": {},
       "data": [
        [
         "C002",
         "O002",
         "Smartphone",
         2,
         30000,
         "2024-09-05",
         "Delivered",
         "1-Oct-24",
         "Jane Smith",
         "Delhi",
         "Delhi",
         "Connaught Place",
         8765432109,
         110001,
         "10/1/2024",
         "12/12/9999",
         "insert_data"
        ],
        [
         "C005",
         "O005",
         "Camera",
         2,
         40000,
         "2024-09-20",
         "Delivered",
         "1-Oct-24",
         "David Wilson",
         "Karnataka",
         "Bengaluru",
         "Whitefield",
         5432109876,
         560066,
         "10/1/2024",
         "12/12/9999",
         "insert_data"
        ],
        [
         "C007",
         "O007",
         "TV",
         1,
         35000,
         "2024-09-30",
         "Delivered",
         "1-Oct-24",
         "Thomas Brown",
         "Andhra Pradesh",
         "Hyderabad",
         "Banjara Hills",
         3210987654,
         500034,
         "10/1/2024",
         "12/12/9999",
         "insert_data"
        ],
        [
         "C009",
         "O009",
         "Air Conditioner",
         2,
         30000,
         "2024-10-10",
         "Delivered",
         "1-Oct-24",
         "Ethan Green",
         "Rajasthan",
         "Jaipur",
         "Pink City",
         1098765432,
         302025,
         "10/1/2024",
         "12/12/9999",
         "insert_data"
        ],
        [
         "C011",
         "O011",
         "Mixer Grinder",
         2,
         5000,
         "2024-10-20",
         "Delivered",
         "1-Oct-24",
         "Benjamin Johnson",
         "Punjab",
         "Chandigarh",
         "Sector 17",
         8765432109,
         160017,
         "10/1/2024",
         "12/12/9999",
         "insert_data"
        ],
        [
         "C013",
         "O013",
         "Oven",
         1,
         15000,
         "2024-10-30",
         "Delivered",
         "1-Oct-24",
         "William Wilson",
         "Kerala",
         "Kochi",
         "Fort Kochi",
         6543210987,
         682001,
         "10/1/2024",
         "12/12/9999",
         "insert_data"
        ],
        [
         "C015",
         "O015",
         "Vacuum Cleaner",
         1,
         15000,
         "2024-11-10",
         "Delivered",
         "1-Oct-24",
         "Noah Carter",
         "Odisha",
         "Bhubaneswar",
         "Janpath",
         4321098765,
         751001,
         "10/1/2024",
         "12/12/9999",
         "insert_data"
        ]
       ],
       "datasetInfos": [],
       "dbfsResultPath": null,
       "isJsonSchema": true,
       "metadata": {},
       "overflow": false,
       "plotOptions": {
        "customPlotOptions": {},
        "displayType": "table",
        "pivotAggregation": null,
        "pivotColumns": null,
        "xColumns": null,
        "yColumns": null
       },
       "removedWidgets": [],
       "schema": [
        {
         "metadata": "{}",
         "name": "customer_id",
         "type": "\"string\""
        },
        {
         "metadata": "{}",
         "name": "order_id",
         "type": "\"string\""
        },
        {
         "metadata": "{}",
         "name": "product",
         "type": "\"string\""
        },
        {
         "metadata": "{}",
         "name": "qty",
         "type": "\"integer\""
        },
        {
         "metadata": "{}",
         "name": "price",
         "type": "\"integer\""
        },
        {
         "metadata": "{\"__detected_date_formats\":\"M/d/yyyy\"}",
         "name": "order_date",
         "type": "\"date\""
        },
        {
         "metadata": "{}",
         "name": "status",
         "type": "\"string\""
        },
        {
         "metadata": "{}",
         "name": "update_date",
         "type": "\"string\""
        },
        {
         "metadata": "{}",
         "name": "name",
         "type": "\"string\""
        },
        {
         "metadata": "{}",
         "name": "state",
         "type": "\"string\""
        },
        {
         "metadata": "{}",
         "name": "city",
         "type": "\"string\""
        },
        {
         "metadata": "{}",
         "name": "address",
         "type": "\"string\""
        },
        {
         "metadata": "{}",
         "name": "mb_number",
         "type": "\"long\""
        },
        {
         "metadata": "{}",
         "name": "pin",
         "type": "\"integer\""
        },
        {
         "metadata": "{}",
         "name": "valid_from",
         "type": "\"string\""
        },
        {
         "metadata": "{}",
         "name": "valid_to",
         "type": "\"string\""
        },
        {
         "metadata": "{}",
         "name": "ingestion_type",
         "type": "\"string\""
        }
       ],
       "type": "table"
      }
     },
     "output_type": "display_data"
    }
   ],
   "source": [
    "%sql\n",
    "select * from  ecommerce.delivered_order_table;"
   ]
  },
  {
   "cell_type": "code",
   "execution_count": 0,
   "metadata": {
    "application/vnd.databricks.v1+cell": {
     "cellMetadata": {
      "byteLimit": 2048000,
      "rowLimit": 10000
     },
     "inputWidgets": {},
     "nuid": "8e066c02-b1f6-45ad-a3da-a227aad47e07",
     "showTitle": false,
     "title": ""
    }
   },
   "outputs": [
    {
     "output_type": "stream",
     "name": "stdout",
     "output_type": "stream",
     "text": [
      "+-----------+--------+---------------+---+-----+----------+---------+-----------+----------------+--------------+-----------+----------------+----------+------+----------+----------+--------------+\n|customer_id|order_id|        product|qty|price|order_date|   status|update_date|            name|         state|       city|         address| mb_number|   pin|valid_from|  valid_to|ingestion_type|\n+-----------+--------+---------------+---+-----+----------+---------+-----------+----------------+--------------+-----------+----------------+----------+------+----------+----------+--------------+\n|       C001|    O003|     Headphones|  3| 5000|2024-09-10|Cancelled|   1-Oct-24|        John Doe| Uttar Pradesh|  Ghaziabad|     Indirapuram|9876543210|201010| 10/1/2024|12/12/9999|   insert_data|\n|       C001|    O001|         Laptop|  1|50000|2024-09-01|  Shipped|   1-Oct-24|        John Doe| Uttar Pradesh|  Ghaziabad|     Indirapuram|9876543210|201010| 10/1/2024|12/12/9999|   insert_data|\n|       C002|    O002|     Smartphone|  2|30000|2024-09-05|Delivered|   1-Oct-24|      Jane Smith|         Delhi|      Delhi| Connaught Place|8765432109|110001| 10/1/2024|12/12/9999|   insert_data|\n|       C003|    O004|         Tablet|  1|25000|2024-09-15|  Shipped|   1-Oct-24| Michael Johnson|   Maharashtra|     Mumbai|         Andheri|7654321098|400059| 10/1/2024|12/12/9999|   insert_data|\n|       C005|    O005|         Camera|  2|40000|2024-09-20|Delivered|   1-Oct-24|    David Wilson|     Karnataka|  Bengaluru|      Whitefield|5432109876|560066| 10/1/2024|12/12/9999|   insert_data|\n|       C006|    O006|          Watch|  1|20000|2024-09-25|  Shipped|   1-Oct-24|       Sarah Lee|   West Bengal|    Kolkata|     Park Street|4321098765|700016| 10/1/2024|12/12/9999|   insert_data|\n|       C007|    O007|             TV|  1|35000|2024-09-30|Delivered|   1-Oct-24|    Thomas Brown|Andhra Pradesh|  Hyderabad|   Banjara Hills|3210987654|500034| 10/1/2024|12/12/9999|   insert_data|\n|       C008|    O008|   Refrigerator|  1|25000|2024-10-05|  Shipped|   1-Oct-24|   Olivia Taylor|     Telangana|  Hyderabad|     Hitech City|2109876543|500081| 10/1/2024|12/12/9999|   insert_data|\n|       C009|    O009|Air Conditioner|  2|30000|2024-10-10|Delivered|   1-Oct-24|     Ethan Green|     Rajasthan|     Jaipur|       Pink City|1098765432|302025| 10/1/2024|12/12/9999|   insert_data|\n|       C010|    O010|Washing Machine|  1|20000|2024-10-15|  Shipped|   1-Oct-24|      Ava Miller|       Gujarat|  Ahmedabad|    Ellis Bridge|9876543210|380006| 10/1/2024|12/12/9999|   insert_data|\n|       C011|    O011|  Mixer Grinder|  2| 5000|2024-10-20|Delivered|   1-Oct-24|Benjamin Johnson|        Punjab| Chandigarh|       Sector 17|8765432109|160017| 10/1/2024|12/12/9999|   insert_data|\n|       C012|    O012|   Coffee Maker|  1|10000|2024-10-25|  Shipped|   1-Oct-24|    Sophia Davis|       Haryana|    Gurgaon|Golf Course Road|7654321098|122002| 10/1/2024|12/12/9999|   insert_data|\n|       C013|    O013|           Oven|  1|15000|2024-10-30|Delivered|   1-Oct-24|  William Wilson|        Kerala|      Kochi|      Fort Kochi|6543210987|682001| 10/1/2024|12/12/9999|   insert_data|\n|       C014|    O014|      Microwave|  2|10000|2024-11-05|  Shipped|   1-Oct-24|     Lily Harris|Madhya Pradesh|     Bhopal|       Lake View|5432109876|462001| 10/1/2024|12/12/9999|   insert_data|\n|       C015|    O015| Vacuum Cleaner|  1|15000|2024-11-10|Delivered|   1-Oct-24|     Noah Carter|        Odisha|Bhubaneswar|         Janpath|4321098765|751001| 10/1/2024|12/12/9999|   insert_data|\n+-----------+--------+---------------+---+-----+----------+---------+-----------+----------------+--------------+-----------+----------------+----------+------+----------+----------+--------------+\n\n"
     ]
    }
   ],
   "source": [
    "# sales_df=spark.read.format('delta').option('infer_schema',True).load('dbfs:/user/hive/warehouse/ecommerce.db/order_join')\n",
    "# sales_df.show()"
   ]
  },
  {
   "cell_type": "code",
   "execution_count": 0,
   "metadata": {
    "application/vnd.databricks.v1+cell": {
     "cellMetadata": {
      "byteLimit": 2048000,
      "rowLimit": 10000
     },
     "inputWidgets": {},
     "nuid": "81d10c4a-cc8b-4ae9-98e3-f2a79967f964",
     "showTitle": false,
     "title": ""
    }
   },
   "outputs": [],
   "source": [
    "#dbutils.fs.rm(\"dbfs:/user/hive/warehouse/ecommerce.db\", recurse=True)"
   ]
  },
  {
   "cell_type": "code",
   "execution_count": 0,
   "metadata": {
    "application/vnd.databricks.v1+cell": {
     "cellMetadata": {
      "byteLimit": 2048000,
      "rowLimit": 10000
     },
     "inputWidgets": {},
     "nuid": "040efc17-8dd0-47f3-9d9f-a31d11274fd9",
     "showTitle": false,
     "title": ""
    }
   },
   "outputs": [],
   "source": []
  }
 ],
 "metadata": {
  "application/vnd.databricks.v1+notebook": {
   "dashboards": [],
   "environmentMetadata": null,
   "language": "python",
   "notebookMetadata": {
    "mostRecentlyExecutedCommandWithImplicitDF": {
     "commandId": 2873486559588666,
     "dataframes": [
      "_sqldf"
     ]
    },
    "pythonIndentUnit": 4
   },
   "notebookName": "Main code",
   "widgets": {}
  }
 },
 "nbformat": 4,
 "nbformat_minor": 0
}
